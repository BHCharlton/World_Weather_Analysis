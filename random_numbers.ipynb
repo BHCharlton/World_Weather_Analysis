{
 "cells": [
  {
   "cell_type": "code",
   "execution_count": 1,
   "id": "394d74f8",
   "metadata": {},
   "outputs": [],
   "source": [
    "import random"
   ]
  },
  {
   "cell_type": "code",
   "execution_count": 2,
   "id": "109ab4fc",
   "metadata": {},
   "outputs": [
    {
     "data": {
      "text/plain": [
       "9"
      ]
     },
     "execution_count": 2,
     "metadata": {},
     "output_type": "execute_result"
    }
   ],
   "source": [
    "random.randint(-90,90)"
   ]
  },
  {
   "cell_type": "code",
   "execution_count": 3,
   "id": "bcf55068",
   "metadata": {},
   "outputs": [
    {
     "data": {
      "text/plain": [
       "0.3737790902804249"
      ]
     },
     "execution_count": 3,
     "metadata": {},
     "output_type": "execute_result"
    }
   ],
   "source": [
    "random.random()"
   ]
  },
  {
   "cell_type": "code",
   "execution_count": 8,
   "id": "66190b4f",
   "metadata": {},
   "outputs": [
    {
     "data": {
      "text/plain": [
       "39.88586469315839"
      ]
     },
     "execution_count": 8,
     "metadata": {},
     "output_type": "execute_result"
    }
   ],
   "source": [
    "random_number = random.randint(-90,89) + random.random()\n",
    "random_number"
   ]
  },
  {
   "cell_type": "code",
   "execution_count": 9,
   "id": "18d7b56c",
   "metadata": {},
   "outputs": [
    {
     "data": {
      "text/plain": [
       "[20.820851073732246,\n",
       " 30.868377671209156,\n",
       " -81.59308998750303,\n",
       " 54.40871566813152,\n",
       " -41.104849881373234,\n",
       " 21.161317107182494,\n",
       " -9.458190095078846,\n",
       " -79.45871211958892,\n",
       " 31.411652524209323,\n",
       " 44.54110680205706]"
      ]
     },
     "execution_count": 9,
     "metadata": {},
     "output_type": "execute_result"
    }
   ],
   "source": [
    "x = 1\n",
    "latitudes = []\n",
    "while x < 11:\n",
    "    random_lat = random.randint(-90,89) + random.random()\n",
    "    latitudes.append(random_lat)\n",
    "    x += 1\n",
    "latitudes"
   ]
  },
  {
   "cell_type": "code",
   "execution_count": 13,
   "id": "2648c791",
   "metadata": {},
   "outputs": [
    {
     "data": {
      "text/plain": [
       "75"
      ]
     },
     "execution_count": 13,
     "metadata": {},
     "output_type": "execute_result"
    }
   ],
   "source": [
    "random.randrange(-90,90, step=3) #If you don't specify a step, 1 is the default and will automatically be used"
   ]
  },
  {
   "cell_type": "code",
   "execution_count": 14,
   "id": "ea12bcba",
   "metadata": {},
   "outputs": [
    {
     "data": {
      "text/plain": [
       "-28.522563542122732"
      ]
     },
     "execution_count": 14,
     "metadata": {},
     "output_type": "execute_result"
    }
   ],
   "source": [
    "#The random.uniform function provides a combination of these functions\n",
    "random.uniform(-90,90)"
   ]
  },
  {
   "cell_type": "code",
   "execution_count": 15,
   "id": "05bcf589",
   "metadata": {},
   "outputs": [],
   "source": [
    "import numpy as np\n",
    "#NumPy has a built-in random module, so you do not have to import \"random\" when you use it"
   ]
  },
  {
   "cell_type": "code",
   "execution_count": 16,
   "id": "35577630",
   "metadata": {},
   "outputs": [
    {
     "data": {
      "text/plain": [
       "-50.96790980764437"
      ]
     },
     "execution_count": 16,
     "metadata": {},
     "output_type": "execute_result"
    }
   ],
   "source": [
    "np.random.uniform(-90, 90)"
   ]
  },
  {
   "cell_type": "code",
   "execution_count": 17,
   "id": "0ce07e1c",
   "metadata": {},
   "outputs": [
    {
     "data": {
      "text/plain": [
       "array([ 84.02057992, -61.87470941,  67.49514636, -79.84165931,\n",
       "       -37.91879254,  79.59228736,  -6.59977897,  71.41753894,\n",
       "        18.31779021,  62.91209634,  20.1196249 ,  72.55428494,\n",
       "       -27.87815509, -32.51474987,  72.85578673,  81.9381743 ,\n",
       "        87.5918134 ,   0.45664491,  19.0195713 , -13.07707042,\n",
       "       -46.06373791, -81.50597197,  17.55844872, -25.00406759,\n",
       "       -47.81982131, -29.48228907, -45.16845615, -32.97566557,\n",
       "        52.22122512,  81.83685308,  13.02843691, -67.37106795,\n",
       "        16.33533942, -32.69021737,  -4.96543962, -15.76881183,\n",
       "       -38.09883289,  72.40543943,   7.69838544,  83.01019964,\n",
       "        87.26326719,   8.27543368,  11.87706851,  -6.68246588,\n",
       "       -80.19846563,   3.40688599, -11.30081719, -58.34917708,\n",
       "       -40.09379472, -49.15071064])"
      ]
     },
     "execution_count": 17,
     "metadata": {},
     "output_type": "execute_result"
    }
   ],
   "source": [
    "#You can use the \"size\" function to generate multiple results in an array\n",
    "np.random.uniform(-90, 90, size = 50)"
   ]
  },
  {
   "cell_type": "code",
   "execution_count": 18,
   "id": "9d4187f8",
   "metadata": {},
   "outputs": [],
   "source": [
    "#Import \"timeit\" which is used to time how long a code takes to run\n",
    "import timeit"
   ]
  },
  {
   "cell_type": "code",
   "execution_count": 19,
   "id": "f5ef8aa6",
   "metadata": {},
   "outputs": [
    {
     "name": "stdout",
     "output_type": "stream",
     "text": [
      "13 µs ± 181 ns per loop (mean ± std. dev. of 7 runs, 100000 loops each)\n"
     ]
    }
   ],
   "source": [
    "%timeit np.random.uniform(-90, 90, size=1500)"
   ]
  },
  {
   "cell_type": "code",
   "execution_count": 20,
   "id": "34f0b1f9",
   "metadata": {},
   "outputs": [
    {
     "name": "stdout",
     "output_type": "stream",
     "text": [
      "1.62 ms ± 32 µs per loop (mean ± std. dev. of 7 runs, 1000 loops each)\n"
     ]
    }
   ],
   "source": [
    "def latitudes(size):\n",
    "    latitudes = []\n",
    "    x = 0\n",
    "    while x < (size):\n",
    "        random_lat = random.randint(-90, 90) + random.random()\n",
    "        latitudes.append(random_lat)\n",
    "        x += 1\n",
    "    return latitudes\n",
    "# Call the function with 1500.\n",
    "%timeit latitudes(1500)"
   ]
  },
  {
   "cell_type": "code",
   "execution_count": null,
   "id": "14cd78ae",
   "metadata": {},
   "outputs": [],
   "source": []
  }
 ],
 "metadata": {
  "kernelspec": {
   "display_name": "PythonData",
   "language": "python",
   "name": "pythondata"
  },
  "language_info": {
   "codemirror_mode": {
    "name": "ipython",
    "version": 3
   },
   "file_extension": ".py",
   "mimetype": "text/x-python",
   "name": "python",
   "nbconvert_exporter": "python",
   "pygments_lexer": "ipython3",
   "version": "3.7.11"
  }
 },
 "nbformat": 4,
 "nbformat_minor": 5
}
